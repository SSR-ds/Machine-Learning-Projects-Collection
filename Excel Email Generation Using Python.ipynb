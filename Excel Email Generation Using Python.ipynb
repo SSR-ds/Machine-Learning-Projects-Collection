{
 "cells": [
  {
   "cell_type": "code",
   "execution_count": 3,
   "metadata": {},
   "outputs": [],
   "source": [
    "import pandas as pd\n",
    "import numpy as np\n",
    "import smtplib\n",
    "import tkinter as tk\n",
    "from tkinter import filedialog\n",
    "import os"
   ]
  },
  {
   "cell_type": "code",
   "execution_count": 4,
   "metadata": {},
   "outputs": [
    {
     "name": "stdout",
     "output_type": "stream",
     "text": [
      "Email to sairaghavendra95@gmail.com successfully sent!\n",
      "\n",
      "\n",
      "Email to sxs180281@utdallas.edu successfully sent!\n",
      "\n",
      "\n"
     ]
    }
   ],
   "source": [
    "def mail():\n",
    "    your_name = \"Sai Raghavendra Sridhar\"\n",
    "    your_email = \"sai.raghavendra1995@gmail.com\"\n",
    "    server = smtplib.SMTP_SSL('smtp.gmail.com', 465)\n",
    "    server.ehlo()\n",
    "    server.login(\"sai.raghavendra1995@gmail.com\",\"*********\")\n",
    "    email_list = pd.read_excel(\"EmailList.xlsx\")\n",
    "    all_names = email_list['Name']\n",
    "    all_emails = email_list['Email']\n",
    "    all_subjects = email_list['Subject']\n",
    "    all_messages = email_list['Message']\n",
    "\n",
    "    for idx in range(len(all_emails)):\n",
    "        name = all_names[idx]\n",
    "        email = all_emails[idx]\n",
    "        subject = all_subjects[idx]\n",
    "        message = all_messages[idx]\n",
    "        full_email = (\"From: {0} <{1}>\\n\"\n",
    "                      \"To: {2} <{3}>\\n\"\n",
    "                      \"Subject: {4}\\n\\n\"\n",
    "                      \"{5}\".format(your_name, your_email, name, email, subject, message))\n",
    "        try:\n",
    "            server.sendmail(your_email, [email], full_email)\n",
    "            print('Email to {} successfully sent!\\n\\n'.format(email))\n",
    "        except Exception as e:\n",
    "            print('Email to {} could not be sent :( because {}\\n\\n'.format(email, str(e)))\n",
    "    server.close()\n",
    "\n",
    "if __name__ == \"__main__\":\n",
    "        window = tk.Tk()\n",
    "        window.title('Trigger mail')\n",
    "        window.geometry(\"250x250\")\n",
    "        frame = tk.Frame(window)\n",
    "        frame.grid(row=25, column=25)\n",
    "        button = tk.Button(frame, text='Trigger email', command=mail, fg = \"blue\")\n",
    "        button.grid(row=150, column=150)\n",
    "        button.pack(padx=80,pady=100)\n",
    "        window.mainloop()"
   ]
  }
 ],
 "metadata": {
  "kernelspec": {
   "display_name": "Python 3",
   "language": "python",
   "name": "python3"
  },
  "language_info": {
   "codemirror_mode": {
    "name": "ipython",
    "version": 3
   },
   "file_extension": ".py",
   "mimetype": "text/x-python",
   "name": "python",
   "nbconvert_exporter": "python",
   "pygments_lexer": "ipython3",
   "version": "3.8.3"
  }
 },
 "nbformat": 4,
 "nbformat_minor": 4
}
